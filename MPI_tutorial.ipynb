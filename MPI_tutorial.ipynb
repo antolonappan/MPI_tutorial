{
 "cells": [
  {
   "cell_type": "markdown",
   "metadata": {},
   "source": [
    "# Divide and Conquer \n",
    "***\n",
    "\n",
    "### The two deceiving classifications\n",
    "- **Multi Threading** \n",
    "- **Multi Processing** \n",
    "\n",
    "### What is  Multithreading?\n",
    "- **A single core(processor) in your computer can mimic multi(N)processor, This will allow you to run multiple(N) programs concurrently(not exactly!).**\n",
    "- **Multiple processor can share same memory space. So that a single variable can be updated or used by multiple processor at  the same time.**\n",
    "\n",
    "### What is *Multiprocessing*?\n",
    "- **A single core(processor) is always single. So for running program concurrently(exactly), you need to use multiple physical cores(processors)**\n",
    "- **Multipleprocessor doesn't share memory. So, we need to make them talk among themselves.**\n",
    "\n",
    "### High Perfomance Computing(HPC)\n",
    "- **Uses both of this concept efficiently** \n",
    "***"
   ]
  },
  {
   "cell_type": "markdown",
   "metadata": {},
   "source": [
    "# Message Passing Interface(MPI)\n",
    "\n",
    "### The Big MPI is mainly used in C, C++ and Fortran\n",
    "\n",
    "### But however BIG it is ... python has a very stretchy Belly!\n",
    "***"
   ]
  },
  {
   "cell_type": "markdown",
   "metadata": {},
   "source": [
    "# Environment setup\n",
    "\n",
    "Minimum requirements:\n",
    "- MPICH Library + OpenMPI Library\n",
    "- Python > 2.7.5\n",
    "- mpi4py Python module\n",
    "\n",
    "Installisation:\n",
    "- MPICH/OpenMPI\n",
    "  ```\n",
    "  sudo apt-get install aptitude\n",
    "  sudo aptitude install mpich mpich2 openmpi\n",
    "  ```\n",
    "  You can search and install particular library and softwares using \n",
    "  ```\n",
    "  sudo aptitude search <lib>\n",
    "  ```\n",
    "  \n",
    "- Python\n",
    "   ```\n",
    "   sudo aptitude install python\n",
    "   sudo aptitude install python-pip\n",
    "   pip install mpi4py\n",
    "   ```\n",
    "   or,\n",
    "   ```\n",
    "   sudo aptitude install python-mpi4py\n",
    "   ```\n",
    "   ***"
   ]
  },
  {
   "cell_type": "markdown",
   "metadata": {},
   "source": [
    "# Let's make you computer's cores to communicate themselves"
   ]
  },
  {
   "cell_type": "markdown",
   "metadata": {},
   "source": [
    "### Import Library"
   ]
  },
  {
   "cell_type": "code",
   "execution_count": null,
   "metadata": {
    "collapsed": true
   },
   "outputs": [],
   "source": [
    "from mpi4py import MPI"
   ]
  },
  {
   "cell_type": "markdown",
   "metadata": {},
   "source": [
    "### Mandatory Communication intialization "
   ]
  },
  {
   "cell_type": "code",
   "execution_count": null,
   "metadata": {
    "collapsed": true
   },
   "outputs": [],
   "source": [
    "# Meduim of communication\n",
    "comm = MPI.COMM_WORLD\n",
    "# Name of the Communicator\n",
    "rank = comm.Get_rank()\n",
    "# Total no. of Communicators\n",
    "size = comm.Get_size()"
   ]
  },
  {
   "cell_type": "markdown",
   "metadata": {},
   "source": [
    "## 3 arguments for communication"
   ]
  },
  {
   "cell_type": "markdown",
   "metadata": {},
   "source": [
    "### (source=0, dest=1, tag=1001)\n",
    "\n",
    "### source = From where you are communicating?\n",
    "\n",
    "### dest = To whom you are communicating?\n",
    "\n",
    "### tag = Are you communicating to me or  to someone else?\n",
    "***"
   ]
  },
  {
   "cell_type": "markdown",
   "metadata": {},
   "source": [
    "# Let's Script"
   ]
  },
  {
   "cell_type": "markdown",
   "metadata": {},
   "source": [
    "## Introduction.py\n",
    "A python script that prints from every processor\n",
    "\n",
    "run using cmd:\n",
    "```\n",
    "mpiexec -n 2 python Introduction.py\n",
    "```"
   ]
  },
  {
   "cell_type": "code",
   "execution_count": null,
   "metadata": {
    "collapsed": true
   },
   "outputs": [],
   "source": [
    "from mpi4py import MPI\n",
    "\n",
    "comm = MPI.COMM_WORLD\n",
    "rank = comm.Get_rank()\n",
    "\n",
    "print('Hello world from Processor %d' % rank)"
   ]
  },
  {
   "cell_type": "markdown",
   "metadata": {
    "collapsed": true
   },
   "source": [
    "***\n",
    "# Point to Point Communication"
   ]
  },
  {
   "cell_type": "markdown",
   "metadata": {},
   "source": [
    "## PPC_1.py\n",
    "Sending and Receiving python pickle"
   ]
  },
  {
   "cell_type": "code",
   "execution_count": null,
   "metadata": {
    "collapsed": true
   },
   "outputs": [],
   "source": [
    "from mpi4py import MPI\n",
    "\n",
    "comm = MPI.COMM_WORLD\n",
    "rank = comm.Get_rank()\n",
    "\n",
    "if rank == 0:\n",
    "    data = {'a': 7, 'b': 3.14}\n",
    "    comm.send(data, dest=1, tag=11)\n",
    "elif rank == 1:\n",
    "    data = None\n",
    "    print('Before receving: ', data)\n",
    "    data = comm.recv(source=0, tag=11)\n",
    "    print('After receving: ', data)"
   ]
  },
  {
   "cell_type": "markdown",
   "metadata": {},
   "source": [
    "## PPC_2.py\n",
    "Sending and Receiving python pickle without blocking execution"
   ]
  },
  {
   "cell_type": "code",
   "execution_count": null,
   "metadata": {
    "collapsed": true
   },
   "outputs": [],
   "source": [
    "from mpi4py import MPI\n",
    "\n",
    "comm = MPI.COMM_WORLD\n",
    "rank = comm.Get_rank()\n",
    "\n",
    "if rank == 0:\n",
    "    data = {'a': 7, 'b': 3.14}\n",
    "    req = comm.isend(data, dest=1, tag=11)\n",
    "    req.wait()\n",
    "elif rank == 1:\n",
    "    data = None\n",
    "    print('Before receving: ', data)\n",
    "    req = comm.irecv(source=0, tag=11)\n",
    "    print('After receving: ', data)\n",
    "    data = req.wait()\n",
    "    print('After checking:', data)"
   ]
  },
  {
   "cell_type": "markdown",
   "metadata": {},
   "source": [
    "## PPC_3.py\n",
    "Sending and Receiving Numpy objects"
   ]
  },
  {
   "cell_type": "code",
   "execution_count": null,
   "metadata": {
    "collapsed": true
   },
   "outputs": [],
   "source": [
    "from mpi4py import MPI\n",
    "import numpy\n",
    "\n",
    "comm = MPI.COMM_WORLD\n",
    "rank = comm.Get_rank()\n",
    "\n",
    "# passing MPI datatypes explicitly\n",
    "if rank == 0:\n",
    "    data = numpy.arange(1000, dtype='i')\n",
    "    comm.Send([data, MPI.INT], dest=1, tag=77)\n",
    "elif rank == 1:\n",
    "    data = numpy.empty(1000, dtype='i')\n",
    "    comm.Recv([data, MPI.INT], source=0, tag=77)\n",
    "\n",
    "# automatic MPI datatype discovery\n",
    "if rank == 0:\n",
    "    data = numpy.arange(100, dtype=numpy.float64)\n",
    "    comm.Send(data, dest=1, tag=13)\n",
    "elif rank == 1:\n",
    "    data = numpy.empty(100, dtype=numpy.float64)\n",
    "    comm.Recv(data, source=0, tag=13)"
   ]
  },
  {
   "cell_type": "markdown",
   "metadata": {},
   "source": [
    "***\n",
    "# Collective Communication"
   ]
  },
  {
   "cell_type": "markdown",
   "metadata": {},
   "source": [
    "## CC_1.py\n",
    "Broadcasting a Python pickle"
   ]
  },
  {
   "cell_type": "code",
   "execution_count": null,
   "metadata": {
    "collapsed": true
   },
   "outputs": [],
   "source": [
    "from mpi4py import MPI\n",
    "\n",
    "comm = MPI.COMM_WORLD\n",
    "rank = comm.Get_rank()\n",
    "\n",
    "if rank == 0:\n",
    "    data = {'key1' : [7, 2.72, 2+3j],\n",
    "            'key2' : ( 'abc', 'xyz')}\n",
    "else:\n",
    "    data = None\n",
    "data = comm.bcast(data, root=0)\n",
    "\n",
    "if rank != 0:\n",
    "    print('After broadcasting', data)"
   ]
  },
  {
   "cell_type": "markdown",
   "metadata": {},
   "source": [
    "## CC_2.py\n",
    "Scattering a Python pickle"
   ]
  },
  {
   "cell_type": "code",
   "execution_count": null,
   "metadata": {
    "collapsed": true
   },
   "outputs": [],
   "source": [
    "from mpi4py import MPI\n",
    "\n",
    "comm = MPI.COMM_WORLD\n",
    "size = comm.Get_size()\n",
    "rank = comm.Get_rank()\n",
    "\n",
    "if rank == 0:\n",
    "    data = [(i+1)**2 for i in range(size)]\n",
    "else:\n",
    "    data = None\n",
    "data = comm.scatter(data, root=0)\n",
    "print('From Processor %d :' data)"
   ]
  },
  {
   "cell_type": "markdown",
   "metadata": {},
   "source": [
    "## CC_3.py\n",
    "Gathering a Python pickle"
   ]
  },
  {
   "cell_type": "code",
   "execution_count": null,
   "metadata": {},
   "outputs": [],
   "source": [
    "from mpi4py import MPI\n",
    "\n",
    "comm = MPI.COMM_WORLD\n",
    "size = comm.Get_size()\n",
    "rank = comm.Get_rank()\n",
    "\n",
    "data = (rank+1)**2\n",
    "data = comm.gather(data, root=0)\n",
    "if rank == 0:\n",
    "    print(data)"
   ]
  },
  {
   "cell_type": "markdown",
   "metadata": {
    "collapsed": true
   },
   "source": [
    "# Writing for loops with MPI"
   ]
  },
  {
   "cell_type": "markdown",
   "metadata": {},
   "source": [
    "## forloop.py\n",
    "Execute it  using \n",
    "\n",
    "`time python forloop.py`"
   ]
  },
  {
   "cell_type": "code",
   "execution_count": null,
   "metadata": {},
   "outputs": [],
   "source": [
    "no = 100000000\n",
    "sum = 0\n",
    "for i in range(1,no+1):\n",
    "    sum += i\n",
    "print(sum)"
   ]
  },
  {
   "cell_type": "markdown",
   "metadata": {},
   "source": [
    "## forloop_MPI.py\n",
    "Execute it  using \n",
    "\n",
    "`time mpiexec -n 2 python forloop_MPI.py`"
   ]
  },
  {
   "cell_type": "code",
   "execution_count": null,
   "metadata": {},
   "outputs": [],
   "source": [
    "from mpi4py import MPI\n",
    "\n",
    "comm = MPI.COMM_WORLD\n",
    "rank = comm.Get_rank()\n",
    "size = comm.Get_size()\n",
    "\n",
    "no = 100000000\n",
    "summ = 0\n",
    "\n",
    "for i in range(rank,no+1,size):\n",
    "        summ += i\n",
    "tot = comm.gather(summ,root=0)\n",
    "\n",
    "if rank==0:\n",
    "   print(sum(tot))"
   ]
  },
  {
   "cell_type": "code",
   "execution_count": null,
   "metadata": {
    "collapsed": true
   },
   "outputs": [],
   "source": []
  }
 ],
 "metadata": {
  "kernelspec": {
   "display_name": "Python 3",
   "language": "python",
   "name": "python3"
  },
  "language_info": {
   "codemirror_mode": {
    "name": "ipython",
    "version": 3
   },
   "file_extension": ".py",
   "mimetype": "text/x-python",
   "name": "python",
   "nbconvert_exporter": "python",
   "pygments_lexer": "ipython3",
   "version": "3.6.1"
  }
 },
 "nbformat": 4,
 "nbformat_minor": 2
}
